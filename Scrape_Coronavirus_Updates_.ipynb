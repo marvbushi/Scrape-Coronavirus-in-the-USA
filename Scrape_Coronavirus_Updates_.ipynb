{
  "nbformat": 4,
  "nbformat_minor": 0,
  "metadata": {
    "colab": {
      "name": "Scrape Coronavirus Updates .ipynb",
      "provenance": [],
      "collapsed_sections": [],
      "mount_file_id": "1sXMvgu3RJ91Y8I8D0vQKY9D2yrCiC2os",
      "authorship_tag": "ABX9TyM4Yz/MSqZcsW4lYO//G9vo",
      "include_colab_link": true
    },
    "kernelspec": {
      "name": "python3",
      "display_name": "Python 3"
    }
  },
  "cells": [
    {
      "cell_type": "markdown",
      "metadata": {
        "id": "view-in-github",
        "colab_type": "text"
      },
      "source": [
        "<a href=\"https://colab.research.google.com/github/marvbushi/Scrape-Coronavirus-in-the-USA/blob/master/Scrape_Coronavirus_Updates_.ipynb\" target=\"_parent\"><img src=\"https://colab.research.google.com/assets/colab-badge.svg\" alt=\"Open In Colab\"/></a>"
      ]
    },
    {
      "cell_type": "code",
      "metadata": {
        "id": "8G3XO6doR166",
        "colab_type": "code",
        "colab": {}
      },
      "source": [
        "# Scrape total of cases, deaths, recovered in the United States\n",
        "import pandas as pd\n",
        "import requests\n",
        "from bs4 import BeautifulSoup\n",
        "from datetime import date"
      ],
      "execution_count": 0,
      "outputs": []
    },
    {
      "cell_type": "code",
      "metadata": {
        "id": "VjY_Hw5RSyE-",
        "colab_type": "code",
        "colab": {}
      },
      "source": [
        "today = date.today() # today dates\n",
        "url = \"https://www.worldometers.info/coronavirus/country/us/\" # website to scrape\n",
        "r = requests.get(url) # get a webpage\n",
        "soup = BeautifulSoup(r.text, \"html.parser\") # represents the document as a nested data structure\n",
        "data = soup.find_all(\"div\", class_ = \"maincounter-number\")"
      ],
      "execution_count": 0,
      "outputs": []
    },
    {
      "cell_type": "code",
      "metadata": {
        "id": "lE8CfqaxTZeZ",
        "colab_type": "code",
        "colab": {
          "base_uri": "https://localhost:8080/",
          "height": 85
        },
        "outputId": "3683c53b-ac49-4b0b-93ed-03e349184e1f"
      },
      "source": [
        "print(\"Coronavirus in the USA on\", today)\n",
        "print(\"Total Cases:\", data[0].text.strip())\n",
        "print(\"Total Deaths:\", data[1].text.strip())\n",
        "print(\"Total Recovered:\", data[2].text.strip())"
      ],
      "execution_count": 139,
      "outputs": [
        {
          "output_type": "stream",
          "text": [
            "Coronavirus in the USA on 2020-05-12\n",
            "Total Cases: 1,385,834\n",
            "Total Deaths: 81,795\n",
            "Total Recovered: 262,225\n"
          ],
          "name": "stdout"
        }
      ]
    },
    {
      "cell_type": "code",
      "metadata": {
        "id": "_jfW-H7eVQGB",
        "colab_type": "code",
        "colab": {}
      },
      "source": [
        "df = pd.DataFrame(data, index=['Total Cases', 'Total Deaths', 'Total Recovered'])\n",
        "df.drop(columns=[0, 2], inplace=True)\n",
        "df['Date'] = today\n",
        "df.rename(columns={1: \"USA\"}, inplace=True)\n",
        "df.to_csv(\"/content/drive/My Drive/Colab Notebooks/coronavirus-in-usa.csv\")"
      ],
      "execution_count": 0,
      "outputs": []
    },
    {
      "cell_type": "code",
      "metadata": {
        "id": "njbowBflhUGd",
        "colab_type": "code",
        "colab": {
          "base_uri": "https://localhost:8080/",
          "height": 142
        },
        "outputId": "e85a552c-cafa-4b3b-bc45-afb785d4ffa2"
      },
      "source": [
        "df"
      ],
      "execution_count": 141,
      "outputs": [
        {
          "output_type": "execute_result",
          "data": {
            "text/html": [
              "<div>\n",
              "<style scoped>\n",
              "    .dataframe tbody tr th:only-of-type {\n",
              "        vertical-align: middle;\n",
              "    }\n",
              "\n",
              "    .dataframe tbody tr th {\n",
              "        vertical-align: top;\n",
              "    }\n",
              "\n",
              "    .dataframe thead th {\n",
              "        text-align: right;\n",
              "    }\n",
              "</style>\n",
              "<table border=\"1\" class=\"dataframe\">\n",
              "  <thead>\n",
              "    <tr style=\"text-align: right;\">\n",
              "      <th></th>\n",
              "      <th>USA</th>\n",
              "      <th>Date</th>\n",
              "    </tr>\n",
              "  </thead>\n",
              "  <tbody>\n",
              "    <tr>\n",
              "      <th>Total Cases</th>\n",
              "      <td>[1,385,834 ]</td>\n",
              "      <td>2020-05-12</td>\n",
              "    </tr>\n",
              "    <tr>\n",
              "      <th>Total Deaths</th>\n",
              "      <td>[81,795]</td>\n",
              "      <td>2020-05-12</td>\n",
              "    </tr>\n",
              "    <tr>\n",
              "      <th>Total Recovered</th>\n",
              "      <td>[262,225]</td>\n",
              "      <td>2020-05-12</td>\n",
              "    </tr>\n",
              "  </tbody>\n",
              "</table>\n",
              "</div>"
            ],
            "text/plain": [
              "                          USA        Date\n",
              "Total Cases      [1,385,834 ]  2020-05-12\n",
              "Total Deaths         [81,795]  2020-05-12\n",
              "Total Recovered     [262,225]  2020-05-12"
            ]
          },
          "metadata": {
            "tags": []
          },
          "execution_count": 141
        }
      ]
    },
    {
      "cell_type": "code",
      "metadata": {
        "id": "L1aYDxEaUb1v",
        "colab_type": "code",
        "colab": {
          "base_uri": "https://localhost:8080/",
          "height": 85
        },
        "outputId": "1f47144c-eadb-4f3f-f2bd-8b2f6d62080d"
      },
      "source": [
        "df1 = pd.read_csv(\"/content/drive/My Drive/Colab Notebooks/coronavirus-in-usa.csv\") # Google Drive file path\n",
        "df1.dtypes"
      ],
      "execution_count": 143,
      "outputs": [
        {
          "output_type": "execute_result",
          "data": {
            "text/plain": [
              "Unnamed: 0    object\n",
              "USA           object\n",
              "Date          object\n",
              "dtype: object"
            ]
          },
          "metadata": {
            "tags": []
          },
          "execution_count": 143
        }
      ]
    },
    {
      "cell_type": "code",
      "metadata": {
        "id": "i_iZhBMQezvU",
        "colab_type": "code",
        "colab": {
          "base_uri": "https://localhost:8080/",
          "height": 173
        },
        "outputId": "cf125f67-aab5-42e7-fa8e-bf51b17a8e96"
      },
      "source": [
        "df1.describe()"
      ],
      "execution_count": 144,
      "outputs": [
        {
          "output_type": "execute_result",
          "data": {
            "text/html": [
              "<div>\n",
              "<style scoped>\n",
              "    .dataframe tbody tr th:only-of-type {\n",
              "        vertical-align: middle;\n",
              "    }\n",
              "\n",
              "    .dataframe tbody tr th {\n",
              "        vertical-align: top;\n",
              "    }\n",
              "\n",
              "    .dataframe thead th {\n",
              "        text-align: right;\n",
              "    }\n",
              "</style>\n",
              "<table border=\"1\" class=\"dataframe\">\n",
              "  <thead>\n",
              "    <tr style=\"text-align: right;\">\n",
              "      <th></th>\n",
              "      <th>Unnamed: 0</th>\n",
              "      <th>USA</th>\n",
              "      <th>Date</th>\n",
              "    </tr>\n",
              "  </thead>\n",
              "  <tbody>\n",
              "    <tr>\n",
              "      <th>count</th>\n",
              "      <td>3</td>\n",
              "      <td>3</td>\n",
              "      <td>3</td>\n",
              "    </tr>\n",
              "    <tr>\n",
              "      <th>unique</th>\n",
              "      <td>3</td>\n",
              "      <td>3</td>\n",
              "      <td>1</td>\n",
              "    </tr>\n",
              "    <tr>\n",
              "      <th>top</th>\n",
              "      <td>Total Cases</td>\n",
              "      <td>&lt;span style=\"color:#aaa\"&gt;1,385,834 &lt;/span&gt;</td>\n",
              "      <td>2020-05-12</td>\n",
              "    </tr>\n",
              "    <tr>\n",
              "      <th>freq</th>\n",
              "      <td>1</td>\n",
              "      <td>1</td>\n",
              "      <td>3</td>\n",
              "    </tr>\n",
              "  </tbody>\n",
              "</table>\n",
              "</div>"
            ],
            "text/plain": [
              "         Unnamed: 0                                         USA        Date\n",
              "count             3                                           3           3\n",
              "unique            3                                           3           1\n",
              "top     Total Cases  <span style=\"color:#aaa\">1,385,834 </span>  2020-05-12\n",
              "freq              1                                           1           3"
            ]
          },
          "metadata": {
            "tags": []
          },
          "execution_count": 144
        }
      ]
    }
  ]
}